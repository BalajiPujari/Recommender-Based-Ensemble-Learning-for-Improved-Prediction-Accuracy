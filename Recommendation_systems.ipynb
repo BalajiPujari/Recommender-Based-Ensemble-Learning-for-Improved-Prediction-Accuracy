{
  "cells": [
    {
      "cell_type": "code",
      "execution_count": null,
      "metadata": {
        "colab": {
          "base_uri": "https://localhost:8080/"
        },
        "id": "N8e0VY_XnQb7",
        "outputId": "080467af-7cb3-4e22-ecde-4aa4f11fb2d3"
      },
      "outputs": [
        {
          "output_type": "stream",
          "name": "stdout",
          "text": [
            "Collecting surprise\n",
            "  Downloading surprise-0.1-py2.py3-none-any.whl (1.8 kB)\n",
            "Collecting scikit-surprise (from surprise)\n",
            "  Downloading scikit-surprise-1.1.3.tar.gz (771 kB)\n",
            "\u001b[2K     \u001b[90m━━━━━━━━━━━━━━━━━━━━━━━━━━━━━━━━━━━━━━━━\u001b[0m \u001b[32m772.0/772.0 kB\u001b[0m \u001b[31m6.4 MB/s\u001b[0m eta \u001b[36m0:00:00\u001b[0m\n",
            "\u001b[?25h  Preparing metadata (setup.py) ... \u001b[?25l\u001b[?25hdone\n",
            "Requirement already satisfied: joblib>=1.0.0 in /usr/local/lib/python3.10/dist-packages (from scikit-surprise->surprise) (1.3.2)\n",
            "Requirement already satisfied: numpy>=1.17.3 in /usr/local/lib/python3.10/dist-packages (from scikit-surprise->surprise) (1.23.5)\n",
            "Requirement already satisfied: scipy>=1.3.2 in /usr/local/lib/python3.10/dist-packages (from scikit-surprise->surprise) (1.11.4)\n",
            "Building wheels for collected packages: scikit-surprise\n",
            "  Building wheel for scikit-surprise (setup.py) ... \u001b[?25l\u001b[?25hdone\n",
            "  Created wheel for scikit-surprise: filename=scikit_surprise-1.1.3-cp310-cp310-linux_x86_64.whl size=3163755 sha256=af8b5c1f8d882005e573de0bf8f29865fb8ff08699da64a03de8c9c135cc3ac7\n",
            "  Stored in directory: /root/.cache/pip/wheels/a5/ca/a8/4e28def53797fdc4363ca4af740db15a9c2f1595ebc51fb445\n",
            "Successfully built scikit-surprise\n",
            "Installing collected packages: scikit-surprise, surprise\n",
            "Successfully installed scikit-surprise-1.1.3 surprise-0.1\n"
          ]
        }
      ],
      "source": [
        "!pip install surprise"
      ]
    },
    {
      "cell_type": "code",
      "execution_count": null,
      "metadata": {
        "id": "YXLHPDf0aH72"
      },
      "outputs": [],
      "source": [
        "import pandas as pd\n",
        "import numpy as np\n",
        "import matplotlib.pyplot as plt\n",
        "from sklearn.feature_extraction.text import TfidfVectorizer\n",
        "from sklearn.metrics.pairwise import linear_kernel\n",
        "from surprise import Dataset, Reader, SVD\n",
        "from surprise.model_selection import train_test_split\n",
        "from surprise import accuracy"
      ]
    },
    {
      "cell_type": "code",
      "execution_count": null,
      "metadata": {
        "id": "g3novR65u81g"
      },
      "outputs": [],
      "source": [
        "import warnings\n",
        "warnings.filterwarnings('ignore')"
      ]
    },
    {
      "cell_type": "code",
      "execution_count": null,
      "metadata": {
        "id": "oRHlVLMdhvqi"
      },
      "outputs": [],
      "source": [
        "df0 = pd.read_csv(\"/content/drive/MyDrive/ml-1m/df_cat0.csv\")\n",
        "df1 = pd.read_csv(\"/content/drive/MyDrive/ml-1m/df_cat1.csv\")\n",
        "df2 = pd.read_csv(\"/content/drive/MyDrive/ml-1m/df_cat2.csv\")\n",
        "\n",
        "column_names = ['User_ID', 'MovieID', 'Rating', 'Timestamp']\n",
        "ratings = pd.read_csv(\"/content/drive/MyDrive/ml-1m/ratings.dat\", sep = \"::\", names = column_names, engine='python')\n",
        "\n",
        "column_names = ['User_ID', 'Gender', 'Age', 'Occupation', 'Zip-code']\n",
        "users = pd.read_csv(\"/content/drive/MyDrive/ml-1m/users.dat\", sep = \"::\", names = column_names, engine='python')"
      ]
    },
    {
      "cell_type": "code",
      "execution_count": null,
      "metadata": {
        "id": "GvRitMZJis9m"
      },
      "outputs": [],
      "source": [
        "ratings = ratings.drop(['Timestamp'], axis=1)\n",
        "users = users.drop(['Zip-code'],axis=1)"
      ]
    },
    {
      "cell_type": "code",
      "execution_count": null,
      "metadata": {
        "id": "1_qu_Czmi9Ex"
      },
      "outputs": [],
      "source": [
        "def map_gender(value):\n",
        "    if value == 'M':\n",
        "        return 0\n",
        "    return 1\n",
        "users['Gender'] = users['Gender'].apply(map_gender)"
      ]
    },
    {
      "cell_type": "code",
      "execution_count": null,
      "metadata": {
        "id": "wxWBsW6Hjv8J"
      },
      "outputs": [],
      "source": [
        "# df0.fillna(0, inplace=True)\n",
        "# df1.fillna(0, inplace=True)\n",
        "# df2.fillna(0, inplace=True)"
      ]
    },
    {
      "cell_type": "markdown",
      "metadata": {
        "id": "-a2-jA8UjwMA"
      },
      "source": [
        "# Content Based Recommendation"
      ]
    },
    {
      "cell_type": "code",
      "execution_count": null,
      "metadata": {
        "id": "6crDNUiejy8v"
      },
      "outputs": [],
      "source": [
        "# Define a function to get movie recommendations based on movie title\n",
        "def get_content_based_recommendations(movies, title, cosine_sim, content_n = 10):\n",
        "    idx = movies.index[movies['Title'] == title].tolist()[0]\n",
        "    sim_scores = list(enumerate(cosine_sim[idx]))\n",
        "    sim_scores = sorted(sim_scores, key=lambda x: x[1], reverse=True)\n",
        "    sim_scores = sim_scores[1:content_n+1]  # Top content_n similar movies\n",
        "    movie_indices = [i[0] for i in sim_scores]\n",
        "    return movies['Title'].iloc[movie_indices]"
      ]
    },
    {
      "cell_type": "code",
      "execution_count": null,
      "metadata": {
        "id": "rb9XcV74h4J5"
      },
      "outputs": [],
      "source": [
        "df0_movie_ratings = pd.merge(df0, ratings, on='MovieID')\n",
        "\n",
        "df0_tfidf_vectorizer = TfidfVectorizer()\n",
        "df0_tfidf_matrix = df0_tfidf_vectorizer.fit_transform(df0['Genre 1'] + ' ' + df0['Genre 2'] + ' ' + df0['Genre 3'] + ' ' + df0['Genre 4'])\n",
        "\n",
        "df0_cosine_sim = linear_kernel(df0_tfidf_matrix, df0_tfidf_matrix)"
      ]
    },
    {
      "cell_type": "code",
      "execution_count": null,
      "metadata": {
        "id": "HmVBo-KnmI-0"
      },
      "outputs": [],
      "source": [
        "df1_movie_ratings = pd.merge(df1, ratings, on='MovieID')\n",
        "\n",
        "df1_tfidf_vectorizer = TfidfVectorizer()\n",
        "df1_tfidf_matrix = df1_tfidf_vectorizer.fit_transform(df1['Genre 1'] + ' ' + df1['Genre 2'] + ' ' + df1['Genre 3'] + ' ' + df1['Genre 4'])\n",
        "\n",
        "df1_cosine_sim = linear_kernel(df1_tfidf_matrix, df1_tfidf_matrix)"
      ]
    },
    {
      "cell_type": "code",
      "execution_count": null,
      "metadata": {
        "id": "1nindP-WmJjA"
      },
      "outputs": [],
      "source": [
        "df2_movie_ratings = pd.merge(df2, ratings, on='MovieID')\n",
        "\n",
        "df2_tfidf_vectorizer = TfidfVectorizer()\n",
        "df2_tfidf_matrix = df2_tfidf_vectorizer.fit_transform(df2['Genre 1'] + ' ' + df2['Genre 2'] + ' ' + df2['Genre 3'] + ' ' + df2['Genre 4'])\n",
        "\n",
        "df2_cosine_sim = linear_kernel(df2_tfidf_matrix, df2_tfidf_matrix)"
      ]
    },
    {
      "cell_type": "code",
      "execution_count": null,
      "metadata": {
        "colab": {
          "base_uri": "https://localhost:8080/"
        },
        "id": "o0AMFRsCj4Sz",
        "outputId": "757b60f4-2a2b-4516-9354-6dc3d1afd4d6"
      },
      "outputs": [
        {
          "name": "stdout",
          "output_type": "stream",
          "text": [
            "1                       Money Train (1995)\n",
            "2                         Fair Game (1995)\n",
            "3                          Bad Boys (1995)\n",
            "4     Under Siege 2: Dark Territory (1995)\n",
            "5                         Drop Zone (1994)\n",
            "6                       Hunted, The (1995)\n",
            "7                   Specialist, The (1994)\n",
            "8                       Bad Company (1995)\n",
            "9                    Street Fighter (1994)\n",
            "10                      Coldblooded (1995)\n",
            "Name: Title, dtype: object\n"
          ]
        }
      ],
      "source": [
        "user_favorite_movie = 'Sudden Death (1995)'\n",
        "recommended_movies = get_content_based_recommendations(df0, user_favorite_movie, df0_cosine_sim)\n",
        "print(recommended_movies)"
      ]
    },
    {
      "cell_type": "code",
      "execution_count": null,
      "metadata": {
        "id": "eNJS3GdWmcvh"
      },
      "outputs": [],
      "source": [
        "def calculate_average_rating(movies, ratings, cosine_sim):\n",
        "    total_rating = 0\n",
        "    total_movies = 0\n",
        "\n",
        "    for idx, movie_row in movies.iterrows():\n",
        "        movie_title = movie_row['Title']\n",
        "        recommended_movies = get_content_based_recommendations(movies, movie_title, cosine_sim)\n",
        "\n",
        "        for recommended_movie_title in recommended_movies:\n",
        "            # Find the actual ratings for the recommended movie\n",
        "            recommended_movie_id = movies[movies['Title'] == recommended_movie_title]['MovieID'].values[0]\n",
        "            actual_ratings = ratings[ratings['MovieID'] == recommended_movie_id]['Rating']\n",
        "\n",
        "            if not actual_ratings.empty and not actual_ratings.isna().any():\n",
        "                # Calculate the average actual rating\n",
        "                average_actual_rating = actual_ratings.mean()\n",
        "\n",
        "                # Calculate the error\n",
        "                total_rating += average_actual_rating\n",
        "                total_movies += 1\n",
        "                # print(total_rating)\n",
        "    # Calculate the average error\n",
        "    average_rating = total_rating / total_movies if total_movies > 0 else 0\n",
        "\n",
        "    return average_rating"
      ]
    },
    {
      "cell_type": "code",
      "execution_count": null,
      "metadata": {
        "colab": {
          "base_uri": "https://localhost:8080/"
        },
        "id": "1uOr8JSYm-26",
        "outputId": "a1379761-67de-49cf-bf68-db427772a0a6"
      },
      "outputs": [
        {
          "name": "stdout",
          "output_type": "stream",
          "text": [
            "Average recommender rating for category 0: 2.7888029720654215\n",
            "Average recommender rating for category 1: 3.210108934965727\n",
            "Average recommender rating for category 2: 3.2979804143559197\n"
          ]
        }
      ],
      "source": [
        "df0_content_rating = calculate_average_rating(df0, df0_movie_ratings, df0_cosine_sim)\n",
        "print(\"Average recommender rating for category 0:\", df0_content_rating)\n",
        "\n",
        "df1_content_rating = calculate_average_rating(df1, df1_movie_ratings, df1_cosine_sim)\n",
        "print(\"Average recommender rating for category 1:\", df1_content_rating)\n",
        "\n",
        "df2_content_rating = calculate_average_rating(df2, df2_movie_ratings, df2_cosine_sim)\n",
        "print(\"Average recommender rating for category 2:\", df2_content_rating)"
      ]
    },
    {
      "cell_type": "markdown",
      "metadata": {
        "id": "wGJcDZmOm_Jb"
      },
      "source": [
        "# Collaborative Filtering Recommendation"
      ]
    },
    {
      "cell_type": "code",
      "execution_count": null,
      "metadata": {
        "id": "Atc56jVJv192"
      },
      "outputs": [],
      "source": [
        "def get_collaborative_recommendations(movies, ratings, user_id, n=10):\n",
        "    user_ratings = ratings[ratings['User_ID'] == user_id]\n",
        "    user_unrated_movies = movies[~movies['MovieID'].isin(user_ratings['MovieID'])]\n",
        "    predictions = []\n",
        "    for movie_id in user_unrated_movies['MovieID']:\n",
        "        movie_prediction = model.predict(user_id, movie_id)\n",
        "        predictions.append((movie_id, movie_prediction.est))\n",
        "    predictions.sort(key=lambda x: x[1], reverse=True)\n",
        "    top_predictions = predictions[:n]\n",
        "    recommended_movie_ids = [x[0] for x in top_predictions]\n",
        "    return movies[movies['MovieID'].isin(recommended_movie_ids)]['Title']"
      ]
    },
    {
      "cell_type": "code",
      "execution_count": null,
      "metadata": {
        "colab": {
          "base_uri": "https://localhost:8080/"
        },
        "id": "x2CPvoN5nA_0",
        "outputId": "932bc9cc-6656-4e88-99ba-e7c81eaf31b2"
      },
      "outputs": [
        {
          "data": {
            "text/plain": [
              "<surprise.prediction_algorithms.matrix_factorization.SVD at 0x7ace56ce5c60>"
            ]
          },
          "execution_count": 74,
          "metadata": {},
          "output_type": "execute_result"
        }
      ],
      "source": [
        "# Load the ratings data using Surprise library\n",
        "reader = Reader(rating_scale=(1, 5))\n",
        "data = Dataset.load_from_df(ratings[['User_ID', 'MovieID', 'Rating']], reader)\n",
        "trainset, testset = train_test_split(data, test_size=0.2)\n",
        "\n",
        "# Build a collaborative filtering model (SVD)\n",
        "model = SVD()\n",
        "model.fit(trainset)"
      ]
    },
    {
      "cell_type": "code",
      "execution_count": null,
      "metadata": {
        "colab": {
          "base_uri": "https://localhost:8080/"
        },
        "id": "9Drmy0OQvwMZ",
        "outputId": "36a611d3-3fa3-4b24-bcfe-dd3076198cc6"
      },
      "outputs": [
        {
          "name": "stdout",
          "output_type": "stream",
          "text": [
            "RMSE: 0.8747\n",
            "RMSE: 0.8747180696383404\n"
          ]
        }
      ],
      "source": [
        "# Make predictions on the test set\n",
        "predictions = model.test(testset)\n",
        "\n",
        "# Calculate RMSE (Root Mean Square Error) to evaluate the model's performance\n",
        "rmse = accuracy.rmse(predictions)\n",
        "print(f\"RMSE: {rmse}\")"
      ]
    },
    {
      "cell_type": "code",
      "execution_count": null,
      "metadata": {
        "colab": {
          "base_uri": "https://localhost:8080/"
        },
        "id": "LWvYLAYg9Py9",
        "outputId": "f10a675c-dbbd-4f4d-fd32-8eca30f022e4"
      },
      "outputs": [
        {
          "name": "stdout",
          "output_type": "stream",
          "text": [
            "MAE:  0.6858\n",
            "MAE: 0.6857718575931245\n"
          ]
        }
      ],
      "source": [
        "mae = accuracy.mae(predictions)\n",
        "print(f\"MAE: {mae}\")"
      ]
    },
    {
      "cell_type": "code",
      "execution_count": null,
      "metadata": {
        "colab": {
          "base_uri": "https://localhost:8080/"
        },
        "id": "YfCpcLbXvwGT",
        "outputId": "0f83bef1-9acb-4481-f457-cef2c4a0770c"
      },
      "outputs": [
        {
          "name": "stdout",
          "output_type": "stream",
          "text": [
            "144            Shawshank Redemption, The (1994)\n",
            "452                It Happened One Night (1934)\n",
            "470                It's a Wonderful Life (1946)\n",
            "472                     Bringing Up Baby (1938)\n",
            "823                    Good Will Hunting (1997)\n",
            "1170                         October Sky (1999)\n",
            "1400    Conformist, The (Il Conformista) (1970)\n",
            "1460                Face in the Crowd, A (1957)\n",
            "1650                     For All Mankind (1989)\n",
            "1709                    Inherit the Wind (1960)\n",
            "Name: Title, dtype: object\n"
          ]
        }
      ],
      "source": [
        "# Example usage\n",
        "user_id = 1\n",
        "recommended_movies = get_collaborative_recommendations(df2, ratings,user_id)\n",
        "print(recommended_movies)"
      ]
    },
    {
      "cell_type": "code",
      "execution_count": null,
      "metadata": {
        "id": "SpJDufd3eREn"
      },
      "outputs": [],
      "source": [
        "def calculate_average_rating_collab():\n",
        "    df0_average_rating = 0\n",
        "    df0_cnt = 0\n",
        "\n",
        "    df1_average_rating = 0\n",
        "    df1_cnt = 0\n",
        "\n",
        "    df2_average_rating = 0\n",
        "    df2_cnt = 0\n",
        "\n",
        "    for user_id in users['User_ID']:\n",
        "        df0_recommended_movies = get_collaborative_recommendations(df0, ratings, user_id)\n",
        "        df1_recommended_movies = get_collaborative_recommendations(df1, ratings, user_id)\n",
        "        df2_recommended_movies = get_collaborative_recommendations(df2, ratings, user_id)\n",
        "\n",
        "        total_rating_df0 = 0\n",
        "        total_movies_df0 = 0\n",
        "\n",
        "        for recommended_movie_title in df0_recommended_movies:\n",
        "            # Find the actual ratings for the recommended movie in df0_movie_ratings\n",
        "            recommended_movie_id = df0[df0['Title'] == recommended_movie_title]['MovieID'].values[0]\n",
        "            actual_ratings = df0_movie_ratings[df0_movie_ratings['MovieID'] == recommended_movie_id]['Rating']\n",
        "\n",
        "            if not actual_ratings.empty and not actual_ratings.isna().any():\n",
        "                # Calculate the average actual rating\n",
        "                mean_rating = actual_ratings.mean()\n",
        "\n",
        "                # Accumulate the rating\n",
        "                total_rating_df0 += mean_rating\n",
        "                total_movies_df0 += 1\n",
        "\n",
        "        if total_movies_df0 > 0:\n",
        "            average_rating_df0 = total_rating_df0 / total_movies_df0\n",
        "            df0_average_rating += average_rating_df0  # Accumulate the rating\n",
        "            df0_cnt += 1\n",
        "\n",
        "        total_rating_df1 = 0\n",
        "        total_movies_df1 = 0\n",
        "\n",
        "        for recommended_movie_title in df1_recommended_movies:\n",
        "            # Find the actual ratings for the recommended movie in df1_movie_ratings\n",
        "            recommended_movie_id = df1[df1['Title'] == recommended_movie_title]['MovieID'].values[0]\n",
        "            actual_ratings = df1_movie_ratings[df1_movie_ratings['MovieID'] == recommended_movie_id]['Rating']\n",
        "\n",
        "            if not actual_ratings.empty and not actual_ratings.isna().any():\n",
        "                # Calculate the average actual rating\n",
        "                mean_rating = actual_ratings.mean()\n",
        "\n",
        "                # Accumulate the rating\n",
        "                total_rating_df1 += mean_rating\n",
        "                total_movies_df1 += 1\n",
        "\n",
        "        if total_movies_df1 > 0:\n",
        "            average_rating_df1 = total_rating_df1 / total_movies_df1\n",
        "            df1_average_rating += average_rating_df1  # Accumulate the rating\n",
        "            df1_cnt += 1\n",
        "\n",
        "        total_rating_df2 = 0\n",
        "        total_movies_df2 = 0\n",
        "\n",
        "        for recommended_movie_title in df2_recommended_movies:\n",
        "            # Find the actual ratings for the recommended movie in df2_movie_ratings\n",
        "            recommended_movie_id = df2[df2['Title'] == recommended_movie_title]['MovieID'].values[0]\n",
        "            actual_ratings = df2_movie_ratings[df2_movie_ratings['MovieID'] == recommended_movie_id]['Rating']\n",
        "\n",
        "            if not actual_ratings.empty and not actual_ratings.isna().any():\n",
        "                # Calculate the average actual rating\n",
        "                mean_rating = actual_ratings.mean()\n",
        "\n",
        "                # Accumulate the rating\n",
        "                total_rating_df2 += mean_rating\n",
        "                total_movies_df2 += 1\n",
        "\n",
        "        if total_movies_df2 > 0:\n",
        "            average_rating_df2 = total_rating_df2 / total_movies_df2\n",
        "            df2_average_rating += average_rating_df2  # Accumulate the rating\n",
        "            df2_cnt += 1\n",
        "\n",
        "    # Calculate and return the average ratings for each category\n",
        "    return df0_average_rating / df0_cnt, df1_average_rating / df1_cnt, df2_average_rating / df2_cnt\n",
        "\n",
        "df0_collab_rating, df1_collab_rating, df2_collab_rating = calculate_average_rating_collab()"
      ]
    },
    {
      "cell_type": "code",
      "execution_count": null,
      "metadata": {
        "colab": {
          "base_uri": "https://localhost:8080/"
        },
        "id": "PSCA6HYne5yd",
        "outputId": "8e83e42a-607e-48f2-bf3c-18a789deb4a2"
      },
      "outputs": [
        {
          "name": "stdout",
          "output_type": "stream",
          "text": [
            "Average movie rating of collaborative filtering for category 0: 3.6848266629942468\n",
            "Average movie rating of collaborative filtering for category 1: 4.3311364233972505\n",
            "Average movie rating of collaborative filtering for category 2: 4.255159457857862\n"
          ]
        }
      ],
      "source": [
        "print(\"Average movie rating of collaborative filtering for category 0:\", df0_collab_rating)\n",
        "print(\"Average movie rating of collaborative filtering for category 1:\", df1_collab_rating)\n",
        "print(\"Average movie rating of collaborative filtering for category 2:\", df2_collab_rating)"
      ]
    },
    {
      "cell_type": "markdown",
      "metadata": {
        "id": "erT5j9PZvwz5"
      },
      "source": [
        "# Hybrid Recommendation system"
      ]
    },
    {
      "cell_type": "code",
      "execution_count": null,
      "metadata": {
        "id": "VCBKXLu8WV21"
      },
      "outputs": [],
      "source": [
        "def determine_category(user_favorite_movie, df0, df1, df2):\n",
        "\n",
        "    # Define the MovieID ranges for each category\n",
        "    df0_movie_ids = df0['Title'].unique()\n",
        "    df1_movie_ids = df1['Title'].unique()\n",
        "    df2_movie_ids = df2['Title'].unique()\n",
        "\n",
        "    # Check which category the user's favorite movie falls into\n",
        "    if user_favorite_movie in df0_movie_ids:\n",
        "        return 'df0'\n",
        "    elif user_favorite_movie in df1_movie_ids:\n",
        "        return 'df1'\n",
        "    elif user_favorite_movie in df2_movie_ids:\n",
        "        return 'df2'\n",
        "    else:\n",
        "        return 'unknown'"
      ]
    },
    {
      "cell_type": "code",
      "execution_count": null,
      "metadata": {
        "colab": {
          "base_uri": "https://localhost:8080/"
        },
        "id": "SQIZCDrHXm8O",
        "outputId": "f60c2aa2-c98b-4bbe-c653-d100ed3e97bd"
      },
      "outputs": [
        {
          "name": "stdout",
          "output_type": "stream",
          "text": [
            "['Mr. Wrong (1996)', \"Don't Be a Menace to South Central While Drinking Your Juice in the Hood (1996)\", 'Mighty Aphrodite (1995)', 'Ace Ventura: When Nature Calls (1995)', 'In the Bleak Midwinter (1995)', 'Friday (1995)', 'Black Sheep (1996)', 'Bottle Rocket (1996)', 'It Takes Two (1995)', 'Bio-Dome (1996)']\n"
          ]
        }
      ],
      "source": [
        "def get_hybrid_recommendations(user_id, user_favorite_movie, content_n=5, collaborative_n=5):\n",
        "\n",
        "    user_favorite_movie_category = determine_category(user_favorite_movie, df0, df1, df2)\n",
        "\n",
        "    # Based on the category, use the corresponding cosine similarity matrix\n",
        "    if user_favorite_movie_category == 'df0':\n",
        "        movies = df0\n",
        "        cosine_sim = df0_cosine_sim\n",
        "        df_ratings = df0_movie_ratings\n",
        "    elif user_favorite_movie_category == 'df1':\n",
        "        movies = df1\n",
        "        cosine_sim = df1_cosine_sim\n",
        "        df_ratings = df1_movie_ratings\n",
        "    elif user_favorite_movie_category == 'df2':\n",
        "        movies = df2\n",
        "        cosine_sim = df2_cosine_sim\n",
        "        df_ratings = df2_movie_ratings\n",
        "\n",
        "    # Get content-based and collaborative-based recommendations\n",
        "    content_recommendations = get_content_based_recommendations(movies, user_favorite_movie, cosine_sim)\n",
        "    collaborative_recommendations = get_collaborative_recommendations(movies,  df_ratings, user_id, collaborative_n)\n",
        "\n",
        "    # Find common movies in both sets of recommendations\n",
        "    common_movies = set(content_recommendations) & set(collaborative_recommendations)\n",
        "\n",
        "    # Create a list of ranked recommendations\n",
        "    ranked_recommendations = list(common_movies) + list(set(content_recommendations) - common_movies) + list(set(collaborative_recommendations) - common_movies)\n",
        "\n",
        "    # Return the top content_n + collaborative_n recommendations\n",
        "    return ranked_recommendations[:content_n + collaborative_n]\n",
        "\n",
        "# Example usage\n",
        "user_id = 1  # Replace with the user ID for which you want recommendations\n",
        "user_favorite_movie = 'Father of the Bride Part II (1995)'\n",
        "recommended_movies = get_hybrid_recommendations(user_id, user_favorite_movie, content_n=5, collaborative_n=5)\n",
        "print(recommended_movies)"
      ]
    },
    {
      "cell_type": "code",
      "execution_count": null,
      "metadata": {
        "colab": {
          "base_uri": "https://localhost:8080/"
        },
        "id": "sBzMtvmc2Ep6",
        "outputId": "7f4045af-5658-4bd1-d109-d70ace2b3b08"
      },
      "outputs": [
        {
          "name": "stdout",
          "output_type": "stream",
          "text": [
            "Hybrid recommender syste. average rating for category 0: 3.524485691318226\n",
            "Hybrid recommender syste. average rating for category 1: 4.359161635313443\n",
            "Hybrid recommender syste. average rating for category 2: 4.227366515440555\n"
          ]
        }
      ],
      "source": [
        "def calculate_average_rating_hybrid():\n",
        "    df0_average_rating = 0\n",
        "    df0_cnt = 0\n",
        "\n",
        "    df1_average_rating = 0\n",
        "    df1_cnt = 0\n",
        "\n",
        "    df2_average_rating = 0\n",
        "    df2_cnt = 0\n",
        "\n",
        "    for user_id in users['User_ID']:\n",
        "        for movie in df0['Title']:\n",
        "            # Get content-based recommendations for the user and movie\n",
        "            content_recommendations = get_content_based_recommendations(df0, movie, df0_cosine_sim)\n",
        "\n",
        "            # Get collaborative-based recommendations for the user\n",
        "            collaborative_recommendations = get_collaborative_recommendations(df0, df0_movie_ratings, user_id)\n",
        "\n",
        "            # Find common movies in both sets of recommendations\n",
        "            common_movies = set(content_recommendations) & set(collaborative_recommendations)\n",
        "\n",
        "            total_rating_df0 = 0\n",
        "            total_movies_df0 = 0\n",
        "\n",
        "            for recommended_movie_title in common_movies:\n",
        "                # Exclude the user's favorite movie from recommendations\n",
        "                if recommended_movie_title != movie:\n",
        "                    # Find the actual ratings for the recommended movie\n",
        "                    recommended_movie_id = df0[df0['Title'] == recommended_movie_title]['MovieID'].values[0]\n",
        "                    actual_ratings = df0_movie_ratings[df0_movie_ratings['MovieID'] == recommended_movie_id]['Rating']\n",
        "\n",
        "                    if not actual_ratings.empty and not actual_ratings.isna().any():\n",
        "                        # Calculate the average actual rating\n",
        "                        mean_rating = actual_ratings.mean()\n",
        "                        total_rating_df0 += mean_rating\n",
        "                        total_movies_df0 += 1\n",
        "\n",
        "            if total_movies_df0 > 0:\n",
        "                average_rating_df0 = total_rating_df0 / total_movies_df0\n",
        "                df0_average_rating += average_rating_df0\n",
        "                df0_cnt += 1\n",
        "\n",
        "        for movie in df1['Title']:\n",
        "            # Get content-based recommendations for the user and movie\n",
        "            content_recommendations = get_content_based_recommendations(df1,movie, df1_cosine_sim)\n",
        "\n",
        "            # Get collaborative-based recommendations for the user\n",
        "            collaborative_recommendations = get_collaborative_recommendations(df1, df1_movie_ratings, user_id)\n",
        "\n",
        "            # Find common movies in both sets of recommendations\n",
        "            common_movies = set(content_recommendations) & set(collaborative_recommendations)\n",
        "\n",
        "            total_rating_df1 = 0\n",
        "            total_movies_df1 = 0\n",
        "\n",
        "            for recommended_movie_title in common_movies:\n",
        "                # Exclude the user's favorite movie from recommendations\n",
        "                if recommended_movie_title != movie:\n",
        "                    # Find the actual ratings for the recommended movie\n",
        "                    recommended_movie_id = df1[df1['Title'] == recommended_movie_title]['MovieID'].values[0]\n",
        "                    actual_ratings = df1_movie_ratings[df1_movie_ratings['MovieID'] == recommended_movie_id]['Rating']\n",
        "\n",
        "                    if not actual_ratings.empty and not actual_ratings.isna().any():\n",
        "                        # Calculate the average actual rating\n",
        "                        mean_rating = actual_ratings.mean()\n",
        "                        total_rating_df1 += mean_rating\n",
        "                        total_movies_df1 += 1\n",
        "\n",
        "            if total_movies_df1 > 0:\n",
        "                average_rating_df1 = total_rating_df1 / total_movies_df1\n",
        "                df1_average_rating += average_rating_df1\n",
        "                df1_cnt += 1\n",
        "\n",
        "        for movie in df2['Title']:\n",
        "            # Get content-based recommendations for the user and movie\n",
        "            content_recommendations = get_content_based_recommendations(df2, movie, df2_cosine_sim)\n",
        "\n",
        "            # Get collaborative-based recommendations for the user\n",
        "            collaborative_recommendations = get_collaborative_recommendations(df2, df2_movie_ratings, user_id)\n",
        "\n",
        "            # Find common movies in both sets of recommendations\n",
        "            common_movies = set(content_recommendations) & set(collaborative_recommendations)\n",
        "\n",
        "            total_rating_df2 = 0\n",
        "            total_movies_df2 = 0\n",
        "\n",
        "            for recommended_movie_title in common_movies:\n",
        "                # Exclude the user's favorite movie from recommendations\n",
        "                if recommended_movie_title != movie:\n",
        "                    # Find the actual ratings for the recommended movie\n",
        "                    recommended_movie_id = df2[df2['Title'] == recommended_movie_title]['MovieID'].values[0]\n",
        "                    actual_ratings = df2_movie_ratings[df2_movie_ratings['MovieID'] == recommended_movie_id]['Rating']\n",
        "\n",
        "                    if not actual_ratings.empty and not actual_ratings.isna().any():\n",
        "                        # Calculate the average actual rating\n",
        "                        mean_rating = actual_ratings.mean()\n",
        "                        total_rating_df2 += mean_rating\n",
        "                        total_movies_df2 += 1\n",
        "\n",
        "            if total_movies_df2 > 0:\n",
        "                average_rating_df2 = total_rating_df2 / total_movies_df2\n",
        "                df2_average_rating += average_rating_df2\n",
        "                df2_cnt += 1\n",
        "\n",
        "    return df0_average_rating / df0_cnt, df1_average_rating / df1_cnt, df2_average_rating / df2_cnt\n",
        "df0_hybrid_rating , df1_hybrid_rating , df2_hybrid_rating  = calculate_average_rating_hybrid()\n",
        "print('Hybrid recommender syste. average rating for category 0:', df0_hybrid_rating)\n",
        "print('Hybrid recommender syste. average rating for category 1:', df1_hybrid_rating)\n",
        "print('Hybrid recommender syste. average rating for category 2:', df2_hybrid_rating)"
      ]
    },
    {
      "cell_type": "code",
      "execution_count": null,
      "metadata": {
        "colab": {
          "base_uri": "https://localhost:8080/"
        },
        "id": "eZU7jTvJwYic",
        "outputId": "ad8514e0-faf3-4183-9df9-e424abbb7e5e"
      },
      "outputs": [
        {
          "name": "stdout",
          "output_type": "stream",
          "text": [
            "Hybrid recommender syste. average rating for category 0: 3.524485691318226\n",
            "Hybrid recommender syste. average rating for category 1: 4.359161635313443\n",
            "Hybrid recommender syste. average rating for category 2: 4.227366515440555\n"
          ]
        }
      ],
      "source": [
        "print('Hybrid recommender syste. average rating for category 0:', df0_hybrid_rating)\n",
        "print('Hybrid recommender syste. average rating for category 1:', df1_hybrid_rating)\n",
        "print('Hybrid recommender syste. average rating for category 2:', df2_hybrid_rating)"
      ]
    },
    {
      "cell_type": "code",
      "execution_count": null,
      "metadata": {
        "id": "I98GIgfmQkSh"
      },
      "outputs": [],
      "source": [
        "content_based_weight_0 =  df0_content_rating\n",
        "content_based_weight_1 =  df1_content_rating\n",
        "content_based_weight_2 =  df2_content_rating\n",
        "\n",
        "collaborative_based_weight_0 = df0_collab_rating\n",
        "collaborative_based_weight_1 = df1_collab_rating\n",
        "collaborative_based_weight_2 = df2_collab_rating\n",
        "\n",
        "hybrid_model_weight_0 = df0_hybrid_rating\n",
        "hybrid_model_weight_1 = df1_hybrid_rating\n",
        "hybrid_model_weight_2 = df2_hybrid_rating"
      ]
    },
    {
      "cell_type": "code",
      "execution_count": null,
      "metadata": {
        "id": "Z5dLn9WnuBZN"
      },
      "outputs": [],
      "source": [
        "import pandas as pd\n",
        "\n",
        "def get_recommendations(user_id, title):\n",
        "    user_favorite_movie_category = determine_category(title, df0, df1, df2)  # Implement your logic here\n",
        "\n",
        "    movies = None\n",
        "    cosine_sim = None\n",
        "    df_ratings = None\n",
        "\n",
        "    # Based on the category, use the corresponding cosine similarity matrix and weights\n",
        "    if user_favorite_movie_category == 'df0':\n",
        "        movies = df0\n",
        "        cosine_sim = df0_cosine_sim\n",
        "        df_ratings = df0_movie_ratings\n",
        "        content_based_weight = content_based_weight_0\n",
        "        collaborative_based_weight = collaborative_based_weight_0\n",
        "        hybrid_model_weight = hybrid_model_weight_0\n",
        "    elif user_favorite_movie_category == 'df1':\n",
        "        movies = df1\n",
        "        cosine_sim = df1_cosine_sim\n",
        "        df_ratings = df1_movie_ratings\n",
        "        content_based_weight = content_based_weight_1\n",
        "        collaborative_based_weight = collaborative_based_weight_1\n",
        "        hybrid_model_weight = hybrid_model_weight_1\n",
        "    elif user_favorite_movie_category == 'df2':\n",
        "        movies = df2\n",
        "        cosine_sim = df2_cosine_sim\n",
        "        df_ratings = df2_movie_ratings\n",
        "        content_based_weight = content_based_weight_2\n",
        "        collaborative_based_weight = collaborative_based_weight_2\n",
        "        hybrid_model_weight = hybrid_model_weight_2\n",
        "\n",
        "    content_based_recommendations = get_content_based_recommendations(movies, title, cosine_sim)\n",
        "    collaborative_based_recommendations = get_collaborative_recommendations(movies, ratings, user_id, n=10)\n",
        "    hybrid_model_recommendations = get_hybrid_recommendations(user_id, content_n=10, collaborative_n=10)\n",
        "\n",
        "    # Merge recommendation lists with df_ratings to get the corresponding ratings\n",
        "    content_based_ratings = df_ratings[df_ratings['Title'].isin(content_based_recommendations)]\n",
        "    collaborative_based_ratings = df_ratings[df_ratings['Title'].isin(collaborative_based_recommendations)]\n",
        "    hybrid_model_ratings = df_ratings[df_ratings['Title'].isin(hybrid_model_recommendations)]\n",
        "\n",
        "    # Apply weights to the ratings using .loc to avoid the SettingWithCopyWarning\n",
        "    content_based_ratings.loc[:, 'Rating'] *= content_based_weight/5\n",
        "    collaborative_based_ratings.loc[:, 'Rating'] *= collaborative_based_weight/5\n",
        "    hybrid_model_ratings.loc[:, 'Rating'] *= hybrid_model_weight/5\n",
        "\n",
        "    # Create dataframes for each recommendation method\n",
        "    content_based_df = content_based_ratings[['Title', 'Rating']]\n",
        "    collaborative_based_df = collaborative_based_ratings[['Title', 'Rating']]\n",
        "    hybrid_model_df = hybrid_model_ratings[['Title', 'Rating']]\n",
        "\n",
        "    # Concatenate all three dataframes into a single dataframe\n",
        "    all_recommendations_df = pd.concat([content_based_df, collaborative_based_df, hybrid_model_df])\n",
        "\n",
        "    # Group by 'Title' and keep the row with the highest 'Rating' for each movie\n",
        "    all_recommendations_df = all_recommendations_df.groupby('Title', as_index=False)['Rating'].max()\n",
        "\n",
        "    # Sort by rating in descending order\n",
        "    all_recommendations_df = all_recommendations_df.sort_values(by='Rating', ascending=False)\n",
        "\n",
        "    return all_recommendations_df\n"
      ]
    },
    {
      "cell_type": "code",
      "execution_count": null,
      "metadata": {
        "colab": {
          "base_uri": "https://localhost:8080/",
          "height": 676
        },
        "id": "3d3wNG94h6XK",
        "outputId": "c85fe0a3-083f-4a0f-f3c4-20fe25549cfe"
      },
      "outputs": [
        {
          "data": {
            "text/html": [
              "\n",
              "  <div id=\"df-f7b69b75-5ae3-41bd-8d72-35465717ba8f\" class=\"colab-df-container\">\n",
              "    <div>\n",
              "<style scoped>\n",
              "    .dataframe tbody tr th:only-of-type {\n",
              "        vertical-align: middle;\n",
              "    }\n",
              "\n",
              "    .dataframe tbody tr th {\n",
              "        vertical-align: top;\n",
              "    }\n",
              "\n",
              "    .dataframe thead th {\n",
              "        text-align: right;\n",
              "    }\n",
              "</style>\n",
              "<table border=\"1\" class=\"dataframe\">\n",
              "  <thead>\n",
              "    <tr style=\"text-align: right;\">\n",
              "      <th></th>\n",
              "      <th>Title</th>\n",
              "      <th>Rating</th>\n",
              "    </tr>\n",
              "  </thead>\n",
              "  <tbody>\n",
              "    <tr>\n",
              "      <th>10</th>\n",
              "      <td>Good Will Hunting (1997)</td>\n",
              "      <td>4.255159</td>\n",
              "    </tr>\n",
              "    <tr>\n",
              "      <th>7</th>\n",
              "      <td>Face in the Crowd, A (1957)</td>\n",
              "      <td>4.255159</td>\n",
              "    </tr>\n",
              "    <tr>\n",
              "      <th>18</th>\n",
              "      <td>October Sky (1999)</td>\n",
              "      <td>4.255159</td>\n",
              "    </tr>\n",
              "    <tr>\n",
              "      <th>15</th>\n",
              "      <td>It's a Wonderful Life (1946)</td>\n",
              "      <td>4.255159</td>\n",
              "    </tr>\n",
              "    <tr>\n",
              "      <th>13</th>\n",
              "      <td>It Happened One Night (1934)</td>\n",
              "      <td>4.255159</td>\n",
              "    </tr>\n",
              "    <tr>\n",
              "      <th>12</th>\n",
              "      <td>Inherit the Wind (1960)</td>\n",
              "      <td>4.255159</td>\n",
              "    </tr>\n",
              "    <tr>\n",
              "      <th>8</th>\n",
              "      <td>For All Mankind (1989)</td>\n",
              "      <td>4.255159</td>\n",
              "    </tr>\n",
              "    <tr>\n",
              "      <th>19</th>\n",
              "      <td>Shawshank Redemption, The (1994)</td>\n",
              "      <td>4.255159</td>\n",
              "    </tr>\n",
              "    <tr>\n",
              "      <th>5</th>\n",
              "      <td>Conformist, The (Il Conformista) (1970)</td>\n",
              "      <td>4.255159</td>\n",
              "    </tr>\n",
              "    <tr>\n",
              "      <th>4</th>\n",
              "      <td>Bringing Up Baby (1938)</td>\n",
              "      <td>4.255159</td>\n",
              "    </tr>\n",
              "    <tr>\n",
              "      <th>6</th>\n",
              "      <td>Don't Be a Menace to South Central While Drink...</td>\n",
              "      <td>4.227367</td>\n",
              "    </tr>\n",
              "    <tr>\n",
              "      <th>9</th>\n",
              "      <td>Friday (1995)</td>\n",
              "      <td>4.227367</td>\n",
              "    </tr>\n",
              "    <tr>\n",
              "      <th>1</th>\n",
              "      <td>Bio-Dome (1996)</td>\n",
              "      <td>4.227367</td>\n",
              "    </tr>\n",
              "    <tr>\n",
              "      <th>11</th>\n",
              "      <td>In the Bleak Midwinter (1995)</td>\n",
              "      <td>4.227367</td>\n",
              "    </tr>\n",
              "    <tr>\n",
              "      <th>14</th>\n",
              "      <td>It Takes Two (1995)</td>\n",
              "      <td>4.227367</td>\n",
              "    </tr>\n",
              "    <tr>\n",
              "      <th>3</th>\n",
              "      <td>Bottle Rocket (1996)</td>\n",
              "      <td>4.227367</td>\n",
              "    </tr>\n",
              "    <tr>\n",
              "      <th>16</th>\n",
              "      <td>Mighty Aphrodite (1995)</td>\n",
              "      <td>4.227367</td>\n",
              "    </tr>\n",
              "    <tr>\n",
              "      <th>2</th>\n",
              "      <td>Black Sheep (1996)</td>\n",
              "      <td>4.227367</td>\n",
              "    </tr>\n",
              "    <tr>\n",
              "      <th>0</th>\n",
              "      <td>Ace Ventura: When Nature Calls (1995)</td>\n",
              "      <td>4.227367</td>\n",
              "    </tr>\n",
              "    <tr>\n",
              "      <th>17</th>\n",
              "      <td>Mr. Wrong (1996)</td>\n",
              "      <td>3.381893</td>\n",
              "    </tr>\n",
              "  </tbody>\n",
              "</table>\n",
              "</div>\n",
              "    <div class=\"colab-df-buttons\">\n",
              "\n",
              "  <div class=\"colab-df-container\">\n",
              "    <button class=\"colab-df-convert\" onclick=\"convertToInteractive('df-f7b69b75-5ae3-41bd-8d72-35465717ba8f')\"\n",
              "            title=\"Convert this dataframe to an interactive table.\"\n",
              "            style=\"display:none;\">\n",
              "\n",
              "  <svg xmlns=\"http://www.w3.org/2000/svg\" height=\"24px\" viewBox=\"0 -960 960 960\">\n",
              "    <path d=\"M120-120v-720h720v720H120Zm60-500h600v-160H180v160Zm220 220h160v-160H400v160Zm0 220h160v-160H400v160ZM180-400h160v-160H180v160Zm440 0h160v-160H620v160ZM180-180h160v-160H180v160Zm440 0h160v-160H620v160Z\"/>\n",
              "  </svg>\n",
              "    </button>\n",
              "\n",
              "  <style>\n",
              "    .colab-df-container {\n",
              "      display:flex;\n",
              "      gap: 12px;\n",
              "    }\n",
              "\n",
              "    .colab-df-convert {\n",
              "      background-color: #E8F0FE;\n",
              "      border: none;\n",
              "      border-radius: 50%;\n",
              "      cursor: pointer;\n",
              "      display: none;\n",
              "      fill: #1967D2;\n",
              "      height: 32px;\n",
              "      padding: 0 0 0 0;\n",
              "      width: 32px;\n",
              "    }\n",
              "\n",
              "    .colab-df-convert:hover {\n",
              "      background-color: #E2EBFA;\n",
              "      box-shadow: 0px 1px 2px rgba(60, 64, 67, 0.3), 0px 1px 3px 1px rgba(60, 64, 67, 0.15);\n",
              "      fill: #174EA6;\n",
              "    }\n",
              "\n",
              "    .colab-df-buttons div {\n",
              "      margin-bottom: 4px;\n",
              "    }\n",
              "\n",
              "    [theme=dark] .colab-df-convert {\n",
              "      background-color: #3B4455;\n",
              "      fill: #D2E3FC;\n",
              "    }\n",
              "\n",
              "    [theme=dark] .colab-df-convert:hover {\n",
              "      background-color: #434B5C;\n",
              "      box-shadow: 0px 1px 3px 1px rgba(0, 0, 0, 0.15);\n",
              "      filter: drop-shadow(0px 1px 2px rgba(0, 0, 0, 0.3));\n",
              "      fill: #FFFFFF;\n",
              "    }\n",
              "  </style>\n",
              "\n",
              "    <script>\n",
              "      const buttonEl =\n",
              "        document.querySelector('#df-f7b69b75-5ae3-41bd-8d72-35465717ba8f button.colab-df-convert');\n",
              "      buttonEl.style.display =\n",
              "        google.colab.kernel.accessAllowed ? 'block' : 'none';\n",
              "\n",
              "      async function convertToInteractive(key) {\n",
              "        const element = document.querySelector('#df-f7b69b75-5ae3-41bd-8d72-35465717ba8f');\n",
              "        const dataTable =\n",
              "          await google.colab.kernel.invokeFunction('convertToInteractive',\n",
              "                                                    [key], {});\n",
              "        if (!dataTable) return;\n",
              "\n",
              "        const docLinkHtml = 'Like what you see? Visit the ' +\n",
              "          '<a target=\"_blank\" href=https://colab.research.google.com/notebooks/data_table.ipynb>data table notebook</a>'\n",
              "          + ' to learn more about interactive tables.';\n",
              "        element.innerHTML = '';\n",
              "        dataTable['output_type'] = 'display_data';\n",
              "        await google.colab.output.renderOutput(dataTable, element);\n",
              "        const docLink = document.createElement('div');\n",
              "        docLink.innerHTML = docLinkHtml;\n",
              "        element.appendChild(docLink);\n",
              "      }\n",
              "    </script>\n",
              "  </div>\n",
              "\n",
              "\n",
              "<div id=\"df-473711ad-7be6-423f-ab8f-2cfe04734e76\">\n",
              "  <button class=\"colab-df-quickchart\" onclick=\"quickchart('df-473711ad-7be6-423f-ab8f-2cfe04734e76')\"\n",
              "            title=\"Suggest charts.\"\n",
              "            style=\"display:none;\">\n",
              "\n",
              "<svg xmlns=\"http://www.w3.org/2000/svg\" height=\"24px\"viewBox=\"0 0 24 24\"\n",
              "     width=\"24px\">\n",
              "    <g>\n",
              "        <path d=\"M19 3H5c-1.1 0-2 .9-2 2v14c0 1.1.9 2 2 2h14c1.1 0 2-.9 2-2V5c0-1.1-.9-2-2-2zM9 17H7v-7h2v7zm4 0h-2V7h2v10zm4 0h-2v-4h2v4z\"/>\n",
              "    </g>\n",
              "</svg>\n",
              "  </button>\n",
              "\n",
              "<style>\n",
              "  .colab-df-quickchart {\n",
              "      --bg-color: #E8F0FE;\n",
              "      --fill-color: #1967D2;\n",
              "      --hover-bg-color: #E2EBFA;\n",
              "      --hover-fill-color: #174EA6;\n",
              "      --disabled-fill-color: #AAA;\n",
              "      --disabled-bg-color: #DDD;\n",
              "  }\n",
              "\n",
              "  [theme=dark] .colab-df-quickchart {\n",
              "      --bg-color: #3B4455;\n",
              "      --fill-color: #D2E3FC;\n",
              "      --hover-bg-color: #434B5C;\n",
              "      --hover-fill-color: #FFFFFF;\n",
              "      --disabled-bg-color: #3B4455;\n",
              "      --disabled-fill-color: #666;\n",
              "  }\n",
              "\n",
              "  .colab-df-quickchart {\n",
              "    background-color: var(--bg-color);\n",
              "    border: none;\n",
              "    border-radius: 50%;\n",
              "    cursor: pointer;\n",
              "    display: none;\n",
              "    fill: var(--fill-color);\n",
              "    height: 32px;\n",
              "    padding: 0;\n",
              "    width: 32px;\n",
              "  }\n",
              "\n",
              "  .colab-df-quickchart:hover {\n",
              "    background-color: var(--hover-bg-color);\n",
              "    box-shadow: 0 1px 2px rgba(60, 64, 67, 0.3), 0 1px 3px 1px rgba(60, 64, 67, 0.15);\n",
              "    fill: var(--button-hover-fill-color);\n",
              "  }\n",
              "\n",
              "  .colab-df-quickchart-complete:disabled,\n",
              "  .colab-df-quickchart-complete:disabled:hover {\n",
              "    background-color: var(--disabled-bg-color);\n",
              "    fill: var(--disabled-fill-color);\n",
              "    box-shadow: none;\n",
              "  }\n",
              "\n",
              "  .colab-df-spinner {\n",
              "    border: 2px solid var(--fill-color);\n",
              "    border-color: transparent;\n",
              "    border-bottom-color: var(--fill-color);\n",
              "    animation:\n",
              "      spin 1s steps(1) infinite;\n",
              "  }\n",
              "\n",
              "  @keyframes spin {\n",
              "    0% {\n",
              "      border-color: transparent;\n",
              "      border-bottom-color: var(--fill-color);\n",
              "      border-left-color: var(--fill-color);\n",
              "    }\n",
              "    20% {\n",
              "      border-color: transparent;\n",
              "      border-left-color: var(--fill-color);\n",
              "      border-top-color: var(--fill-color);\n",
              "    }\n",
              "    30% {\n",
              "      border-color: transparent;\n",
              "      border-left-color: var(--fill-color);\n",
              "      border-top-color: var(--fill-color);\n",
              "      border-right-color: var(--fill-color);\n",
              "    }\n",
              "    40% {\n",
              "      border-color: transparent;\n",
              "      border-right-color: var(--fill-color);\n",
              "      border-top-color: var(--fill-color);\n",
              "    }\n",
              "    60% {\n",
              "      border-color: transparent;\n",
              "      border-right-color: var(--fill-color);\n",
              "    }\n",
              "    80% {\n",
              "      border-color: transparent;\n",
              "      border-right-color: var(--fill-color);\n",
              "      border-bottom-color: var(--fill-color);\n",
              "    }\n",
              "    90% {\n",
              "      border-color: transparent;\n",
              "      border-bottom-color: var(--fill-color);\n",
              "    }\n",
              "  }\n",
              "</style>\n",
              "\n",
              "  <script>\n",
              "    async function quickchart(key) {\n",
              "      const quickchartButtonEl =\n",
              "        document.querySelector('#' + key + ' button');\n",
              "      quickchartButtonEl.disabled = true;  // To prevent multiple clicks.\n",
              "      quickchartButtonEl.classList.add('colab-df-spinner');\n",
              "      try {\n",
              "        const charts = await google.colab.kernel.invokeFunction(\n",
              "            'suggestCharts', [key], {});\n",
              "      } catch (error) {\n",
              "        console.error('Error during call to suggestCharts:', error);\n",
              "      }\n",
              "      quickchartButtonEl.classList.remove('colab-df-spinner');\n",
              "      quickchartButtonEl.classList.add('colab-df-quickchart-complete');\n",
              "    }\n",
              "    (() => {\n",
              "      let quickchartButtonEl =\n",
              "        document.querySelector('#df-473711ad-7be6-423f-ab8f-2cfe04734e76 button');\n",
              "      quickchartButtonEl.style.display =\n",
              "        google.colab.kernel.accessAllowed ? 'block' : 'none';\n",
              "    })();\n",
              "  </script>\n",
              "</div>\n",
              "    </div>\n",
              "  </div>\n"
            ],
            "text/plain": [
              "                                                Title    Rating\n",
              "10                           Good Will Hunting (1997)  4.255159\n",
              "7                         Face in the Crowd, A (1957)  4.255159\n",
              "18                                 October Sky (1999)  4.255159\n",
              "15                       It's a Wonderful Life (1946)  4.255159\n",
              "13                       It Happened One Night (1934)  4.255159\n",
              "12                            Inherit the Wind (1960)  4.255159\n",
              "8                              For All Mankind (1989)  4.255159\n",
              "19                   Shawshank Redemption, The (1994)  4.255159\n",
              "5             Conformist, The (Il Conformista) (1970)  4.255159\n",
              "4                             Bringing Up Baby (1938)  4.255159\n",
              "6   Don't Be a Menace to South Central While Drink...  4.227367\n",
              "9                                       Friday (1995)  4.227367\n",
              "1                                     Bio-Dome (1996)  4.227367\n",
              "11                      In the Bleak Midwinter (1995)  4.227367\n",
              "14                                It Takes Two (1995)  4.227367\n",
              "3                                Bottle Rocket (1996)  4.227367\n",
              "16                            Mighty Aphrodite (1995)  4.227367\n",
              "2                                  Black Sheep (1996)  4.227367\n",
              "0               Ace Ventura: When Nature Calls (1995)  4.227367\n",
              "17                                   Mr. Wrong (1996)  3.381893"
            ]
          },
          "execution_count": 90,
          "metadata": {},
          "output_type": "execute_result"
        }
      ],
      "source": [
        "all_recommendations_df = get_recommendations(1, 'It Takes Two (1995)')\n",
        "all_recommendations_df"
      ]
    },
    {
      "cell_type": "code",
      "execution_count": null,
      "metadata": {
        "id": "pIpzGv3lxg7z"
      },
      "outputs": [],
      "source": []
    },
    {
      "cell_type": "code",
      "execution_count": null,
      "metadata": {
        "id": "qxOTobGdpS9z"
      },
      "outputs": [],
      "source": [
        "import math"
      ]
    },
    {
      "cell_type": "code",
      "execution_count": null,
      "metadata": {
        "id": "sKirJ-VapRLD"
      },
      "outputs": [],
      "source": [
        "def get_metrics():\n",
        "    mae = 0\n",
        "    rmse = 0\n",
        "    se = 0\n",
        "    mse = 0\n",
        "    count = 0\n",
        "\n",
        "    for user_id in users['User_ID']:\n",
        "        for movie in df2['Title']:\n",
        "            recommendations = get_recommendations(1, 'It Takes Two (1995)')\n",
        "            ratings = recommendations['Rating'].values\n",
        "            for rating in ratings:\n",
        "                mae  = mae + abs(5-rating)\n",
        "                se = se + ((5-rating)*(5-rating))\n",
        "                count = count+1\n",
        "\n",
        "    mse = se/count\n",
        "    rmse = math.sqrt(se/count)\n",
        "    mae = mae/count\n",
        "    return mae, mse, rmse"
      ]
    },
    {
      "cell_type": "code",
      "source": [
        "mae, mse, rmse = get_metrics()"
      ],
      "metadata": {
        "id": "I6ptJCg9Mv5B"
      },
      "execution_count": null,
      "outputs": []
    },
    {
      "cell_type": "code",
      "source": [
        "print(f'MAE of ensemble recommender system: {mae}')\n",
        "print(f'MSE of ensemble recommender system: {mse}')\n",
        "print(f'RMSE of ensemble recommender system: {rmse}')"
      ],
      "metadata": {
        "colab": {
          "base_uri": "https://localhost:8080/"
        },
        "id": "3mKfge4fMycz",
        "outputId": "a73946bb-2704-4256-c5e6-a22c2b1f4577"
      },
      "execution_count": null,
      "outputs": [
        {
          "output_type": "stream",
          "name": "stdout",
          "text": [
            "MAE of ensemble recommender system: 0.8483287096674975\n",
            "MSE of ensemble recommender system: 0.7789308878172087\n",
            "RMSE of ensemble recommender system: 0.8825706135019501\n"
          ]
        }
      ]
    }
  ],
  "metadata": {
    "colab": {
      "provenance": []
    },
    "kernelspec": {
      "display_name": "Python 3",
      "name": "python3"
    },
    "language_info": {
      "name": "python"
    }
  },
  "nbformat": 4,
  "nbformat_minor": 0
}